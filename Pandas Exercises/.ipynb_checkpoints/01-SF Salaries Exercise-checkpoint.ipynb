{
 "cells": [
  {
   "cell_type": "markdown",
   "metadata": {},
   "source": [
    "___\n",
    "\n",
    "<a href='http://www.pieriandata.com'> <img src='../../Pierian_Data_Logo.png' /></a>\n",
    "___"
   ]
  },
  {
   "cell_type": "markdown",
   "metadata": {},
   "source": [
    "# SF Salaries Exercise \n",
    "\n",
    "Welcome to a quick exercise for you to practice your pandas skills! We will be using the [SF Salaries Dataset](https://www.kaggle.com/kaggle/sf-salaries) from Kaggle! Just follow along and complete the tasks outlined in bold below. The tasks will get harder and harder as you go along."
   ]
  },
  {
   "cell_type": "markdown",
   "metadata": {},
   "source": [
    "** Import pandas as pd.**"
   ]
  },
  {
   "cell_type": "code",
   "execution_count": 1,
   "metadata": {},
   "outputs": [],
   "source": [
    "import pandas as pd"
   ]
  },
  {
   "cell_type": "markdown",
   "metadata": {},
   "source": [
    "** Read Salaries.csv as a dataframe called sal.**"
   ]
  },
  {
   "cell_type": "code",
   "execution_count": 2,
   "metadata": {},
   "outputs": [],
   "source": [
    "sal = pd.read_csv(\"Salaries.csv\")"
   ]
  },
  {
   "cell_type": "markdown",
   "metadata": {},
   "source": [
    "** Check the head of the DataFrame. **"
   ]
  },
  {
   "cell_type": "code",
   "execution_count": 3,
   "metadata": {},
   "outputs": [
    {
     "data": {
      "text/html": [
       "<div>\n",
       "<style scoped>\n",
       "    .dataframe tbody tr th:only-of-type {\n",
       "        vertical-align: middle;\n",
       "    }\n",
       "\n",
       "    .dataframe tbody tr th {\n",
       "        vertical-align: top;\n",
       "    }\n",
       "\n",
       "    .dataframe thead th {\n",
       "        text-align: right;\n",
       "    }\n",
       "</style>\n",
       "<table border=\"1\" class=\"dataframe\">\n",
       "  <thead>\n",
       "    <tr style=\"text-align: right;\">\n",
       "      <th></th>\n",
       "      <th>Id</th>\n",
       "      <th>EmployeeName</th>\n",
       "      <th>JobTitle</th>\n",
       "      <th>BasePay</th>\n",
       "      <th>OvertimePay</th>\n",
       "      <th>OtherPay</th>\n",
       "      <th>Benefits</th>\n",
       "      <th>TotalPay</th>\n",
       "      <th>TotalPayBenefits</th>\n",
       "      <th>Year</th>\n",
       "      <th>Notes</th>\n",
       "      <th>Agency</th>\n",
       "      <th>Status</th>\n",
       "    </tr>\n",
       "  </thead>\n",
       "  <tbody>\n",
       "    <tr>\n",
       "      <td>0</td>\n",
       "      <td>1</td>\n",
       "      <td>NATHANIEL FORD</td>\n",
       "      <td>GENERAL MANAGER-METROPOLITAN TRANSIT AUTHORITY</td>\n",
       "      <td>167411.18</td>\n",
       "      <td>0.00</td>\n",
       "      <td>400184.25</td>\n",
       "      <td>NaN</td>\n",
       "      <td>567595.43</td>\n",
       "      <td>567595.43</td>\n",
       "      <td>2011</td>\n",
       "      <td>NaN</td>\n",
       "      <td>San Francisco</td>\n",
       "      <td>NaN</td>\n",
       "    </tr>\n",
       "    <tr>\n",
       "      <td>1</td>\n",
       "      <td>2</td>\n",
       "      <td>GARY JIMENEZ</td>\n",
       "      <td>CAPTAIN III (POLICE DEPARTMENT)</td>\n",
       "      <td>155966.02</td>\n",
       "      <td>245131.88</td>\n",
       "      <td>137811.38</td>\n",
       "      <td>NaN</td>\n",
       "      <td>538909.28</td>\n",
       "      <td>538909.28</td>\n",
       "      <td>2011</td>\n",
       "      <td>NaN</td>\n",
       "      <td>San Francisco</td>\n",
       "      <td>NaN</td>\n",
       "    </tr>\n",
       "    <tr>\n",
       "      <td>2</td>\n",
       "      <td>3</td>\n",
       "      <td>ALBERT PARDINI</td>\n",
       "      <td>CAPTAIN III (POLICE DEPARTMENT)</td>\n",
       "      <td>212739.13</td>\n",
       "      <td>106088.18</td>\n",
       "      <td>16452.60</td>\n",
       "      <td>NaN</td>\n",
       "      <td>335279.91</td>\n",
       "      <td>335279.91</td>\n",
       "      <td>2011</td>\n",
       "      <td>NaN</td>\n",
       "      <td>San Francisco</td>\n",
       "      <td>NaN</td>\n",
       "    </tr>\n",
       "    <tr>\n",
       "      <td>3</td>\n",
       "      <td>4</td>\n",
       "      <td>CHRISTOPHER CHONG</td>\n",
       "      <td>WIRE ROPE CABLE MAINTENANCE MECHANIC</td>\n",
       "      <td>77916.00</td>\n",
       "      <td>56120.71</td>\n",
       "      <td>198306.90</td>\n",
       "      <td>NaN</td>\n",
       "      <td>332343.61</td>\n",
       "      <td>332343.61</td>\n",
       "      <td>2011</td>\n",
       "      <td>NaN</td>\n",
       "      <td>San Francisco</td>\n",
       "      <td>NaN</td>\n",
       "    </tr>\n",
       "    <tr>\n",
       "      <td>4</td>\n",
       "      <td>5</td>\n",
       "      <td>PATRICK GARDNER</td>\n",
       "      <td>DEPUTY CHIEF OF DEPARTMENT,(FIRE DEPARTMENT)</td>\n",
       "      <td>134401.60</td>\n",
       "      <td>9737.00</td>\n",
       "      <td>182234.59</td>\n",
       "      <td>NaN</td>\n",
       "      <td>326373.19</td>\n",
       "      <td>326373.19</td>\n",
       "      <td>2011</td>\n",
       "      <td>NaN</td>\n",
       "      <td>San Francisco</td>\n",
       "      <td>NaN</td>\n",
       "    </tr>\n",
       "  </tbody>\n",
       "</table>\n",
       "</div>"
      ],
      "text/plain": [
       "   Id       EmployeeName                                        JobTitle  \\\n",
       "0   1     NATHANIEL FORD  GENERAL MANAGER-METROPOLITAN TRANSIT AUTHORITY   \n",
       "1   2       GARY JIMENEZ                 CAPTAIN III (POLICE DEPARTMENT)   \n",
       "2   3     ALBERT PARDINI                 CAPTAIN III (POLICE DEPARTMENT)   \n",
       "3   4  CHRISTOPHER CHONG            WIRE ROPE CABLE MAINTENANCE MECHANIC   \n",
       "4   5    PATRICK GARDNER    DEPUTY CHIEF OF DEPARTMENT,(FIRE DEPARTMENT)   \n",
       "\n",
       "     BasePay  OvertimePay   OtherPay  Benefits   TotalPay  TotalPayBenefits  \\\n",
       "0  167411.18         0.00  400184.25       NaN  567595.43         567595.43   \n",
       "1  155966.02    245131.88  137811.38       NaN  538909.28         538909.28   \n",
       "2  212739.13    106088.18   16452.60       NaN  335279.91         335279.91   \n",
       "3   77916.00     56120.71  198306.90       NaN  332343.61         332343.61   \n",
       "4  134401.60      9737.00  182234.59       NaN  326373.19         326373.19   \n",
       "\n",
       "   Year  Notes         Agency  Status  \n",
       "0  2011    NaN  San Francisco     NaN  \n",
       "1  2011    NaN  San Francisco     NaN  \n",
       "2  2011    NaN  San Francisco     NaN  \n",
       "3  2011    NaN  San Francisco     NaN  \n",
       "4  2011    NaN  San Francisco     NaN  "
      ]
     },
     "execution_count": 3,
     "metadata": {},
     "output_type": "execute_result"
    }
   ],
   "source": [
    "sal.head()"
   ]
  },
  {
   "cell_type": "markdown",
   "metadata": {},
   "source": [
    "** Use the .info() method to find out how many entries there are.**"
   ]
  },
  {
   "cell_type": "code",
   "execution_count": 4,
   "metadata": {},
   "outputs": [
    {
     "name": "stdout",
     "output_type": "stream",
     "text": [
      "<class 'pandas.core.frame.DataFrame'>\n",
      "RangeIndex: 148654 entries, 0 to 148653\n",
      "Data columns (total 13 columns):\n",
      "Id                  148654 non-null int64\n",
      "EmployeeName        148654 non-null object\n",
      "JobTitle            148654 non-null object\n",
      "BasePay             148045 non-null float64\n",
      "OvertimePay         148650 non-null float64\n",
      "OtherPay            148650 non-null float64\n",
      "Benefits            112491 non-null float64\n",
      "TotalPay            148654 non-null float64\n",
      "TotalPayBenefits    148654 non-null float64\n",
      "Year                148654 non-null int64\n",
      "Notes               0 non-null float64\n",
      "Agency              148654 non-null object\n",
      "Status              0 non-null float64\n",
      "dtypes: float64(8), int64(2), object(3)\n",
      "memory usage: 14.7+ MB\n"
     ]
    }
   ],
   "source": [
    "sal.info()"
   ]
  },
  {
   "cell_type": "markdown",
   "metadata": {},
   "source": [
    "**What is the average BasePay ?**"
   ]
  },
  {
   "cell_type": "code",
   "execution_count": 5,
   "metadata": {},
   "outputs": [
    {
     "data": {
      "text/plain": [
       "66325.44884050643"
      ]
     },
     "execution_count": 5,
     "metadata": {},
     "output_type": "execute_result"
    }
   ],
   "source": [
    "sal['BasePay'].mean()"
   ]
  },
  {
   "cell_type": "markdown",
   "metadata": {},
   "source": [
    "** What is the highest amount of OvertimePay in the dataset ? **"
   ]
  },
  {
   "cell_type": "code",
   "execution_count": 6,
   "metadata": {},
   "outputs": [
    {
     "data": {
      "text/plain": [
       "245131.88"
      ]
     },
     "execution_count": 6,
     "metadata": {},
     "output_type": "execute_result"
    }
   ],
   "source": [
    "sal['OvertimePay'].max()"
   ]
  },
  {
   "cell_type": "markdown",
   "metadata": {},
   "source": [
    "** What is the job title of  JOSEPH DRISCOLL ? Note: Use all caps, otherwise you may get an answer that doesn't match up (there is also a lowercase Joseph Driscoll). **"
   ]
  },
  {
   "cell_type": "code",
   "execution_count": 7,
   "metadata": {},
   "outputs": [
    {
     "data": {
      "text/plain": [
       "24    CAPTAIN, FIRE SUPPRESSION\n",
       "Name: JobTitle, dtype: object"
      ]
     },
     "execution_count": 7,
     "metadata": {},
     "output_type": "execute_result"
    }
   ],
   "source": [
    "sal.loc[sal['EmployeeName'] == \"JOSEPH DRISCOLL\"]['JobTitle']"
   ]
  },
  {
   "cell_type": "markdown",
   "metadata": {},
   "source": [
    "** How much does JOSEPH DRISCOLL make (including benefits)? **"
   ]
  },
  {
   "cell_type": "code",
   "execution_count": 8,
   "metadata": {},
   "outputs": [
    {
     "data": {
      "text/plain": [
       "24    270324.91\n",
       "Name: TotalPayBenefits, dtype: float64"
      ]
     },
     "execution_count": 8,
     "metadata": {},
     "output_type": "execute_result"
    }
   ],
   "source": [
    "sal.loc[sal['EmployeeName'] == \"JOSEPH DRISCOLL\"]['TotalPayBenefits']"
   ]
  },
  {
   "cell_type": "markdown",
   "metadata": {},
   "source": [
    "** What is the name of highest paid person (including benefits)?**"
   ]
  },
  {
   "cell_type": "code",
   "execution_count": 9,
   "metadata": {},
   "outputs": [
    {
     "data": {
      "text/plain": [
       "Id                                                               1\n",
       "EmployeeName                                        NATHANIEL FORD\n",
       "JobTitle            GENERAL MANAGER-METROPOLITAN TRANSIT AUTHORITY\n",
       "BasePay                                                     167411\n",
       "OvertimePay                                                      0\n",
       "OtherPay                                                    400184\n",
       "Benefits                                                       NaN\n",
       "TotalPay                                                    567595\n",
       "TotalPayBenefits                                            567595\n",
       "Year                                                          2011\n",
       "Notes                                                          NaN\n",
       "Agency                                               San Francisco\n",
       "Status                                                         NaN\n",
       "Name: 0, dtype: object"
      ]
     },
     "execution_count": 9,
     "metadata": {},
     "output_type": "execute_result"
    }
   ],
   "source": [
    "sal.iloc[sal['TotalPayBenefits'].idxmax()]"
   ]
  },
  {
   "cell_type": "markdown",
   "metadata": {},
   "source": [
    "** What is the name of lowest paid person (including benefits)? Do you notice something strange about how much he or she is paid?**"
   ]
  },
  {
   "cell_type": "code",
   "execution_count": 10,
   "metadata": {},
   "outputs": [
    {
     "data": {
      "text/plain": [
       "Id                                      148654\n",
       "EmployeeName                         Joe Lopez\n",
       "JobTitle            Counselor, Log Cabin Ranch\n",
       "BasePay                                      0\n",
       "OvertimePay                                  0\n",
       "OtherPay                               -618.13\n",
       "Benefits                                     0\n",
       "TotalPay                               -618.13\n",
       "TotalPayBenefits                       -618.13\n",
       "Year                                      2014\n",
       "Notes                                      NaN\n",
       "Agency                           San Francisco\n",
       "Status                                     NaN\n",
       "Name: 148653, dtype: object"
      ]
     },
     "execution_count": 10,
     "metadata": {},
     "output_type": "execute_result"
    }
   ],
   "source": [
    "sal.iloc[sal['TotalPayBenefits'].idxmin()]\n",
    "#Yes, Joe is paid a negative amount"
   ]
  },
  {
   "cell_type": "markdown",
   "metadata": {},
   "source": [
    "** What was the average (mean) BasePay of all employees per year? (2011-2014) ? **"
   ]
  },
  {
   "cell_type": "code",
   "execution_count": 14,
   "metadata": {},
   "outputs": [
    {
     "data": {
      "text/plain": [
       "Year\n",
       "2011    63595.956517\n",
       "2012    65436.406857\n",
       "2013    69630.030216\n",
       "2014    66564.421924\n",
       "Name: BasePay, dtype: float64"
      ]
     },
     "execution_count": 14,
     "metadata": {},
     "output_type": "execute_result"
    }
   ],
   "source": [
    "sal.groupby(\"Year\").mean()['BasePay']"
   ]
  },
  {
   "cell_type": "markdown",
   "metadata": {},
   "source": [
    "** How many unique job titles are there? **"
   ]
  },
  {
   "cell_type": "code",
   "execution_count": 16,
   "metadata": {},
   "outputs": [
    {
     "data": {
      "text/plain": [
       "2159"
      ]
     },
     "execution_count": 16,
     "metadata": {},
     "output_type": "execute_result"
    }
   ],
   "source": [
    "sal['JobTitle'].nunique()"
   ]
  },
  {
   "cell_type": "markdown",
   "metadata": {},
   "source": [
    "** What are the top 5 most common jobs? **"
   ]
  },
  {
   "cell_type": "code",
   "execution_count": 28,
   "metadata": {},
   "outputs": [
    {
     "data": {
      "text/html": [
       "<div>\n",
       "<style scoped>\n",
       "    .dataframe tbody tr th:only-of-type {\n",
       "        vertical-align: middle;\n",
       "    }\n",
       "\n",
       "    .dataframe tbody tr th {\n",
       "        vertical-align: top;\n",
       "    }\n",
       "\n",
       "    .dataframe thead th {\n",
       "        text-align: right;\n",
       "    }\n",
       "</style>\n",
       "<table border=\"1\" class=\"dataframe\">\n",
       "  <thead>\n",
       "    <tr style=\"text-align: right;\">\n",
       "      <th></th>\n",
       "      <th>Id</th>\n",
       "      <th>EmployeeName</th>\n",
       "      <th>BasePay</th>\n",
       "      <th>OvertimePay</th>\n",
       "      <th>OtherPay</th>\n",
       "      <th>Benefits</th>\n",
       "      <th>TotalPay</th>\n",
       "      <th>TotalPayBenefits</th>\n",
       "      <th>Year</th>\n",
       "      <th>Notes</th>\n",
       "      <th>Agency</th>\n",
       "      <th>Status</th>\n",
       "    </tr>\n",
       "    <tr>\n",
       "      <th>JobTitle</th>\n",
       "      <th></th>\n",
       "      <th></th>\n",
       "      <th></th>\n",
       "      <th></th>\n",
       "      <th></th>\n",
       "      <th></th>\n",
       "      <th></th>\n",
       "      <th></th>\n",
       "      <th></th>\n",
       "      <th></th>\n",
       "      <th></th>\n",
       "      <th></th>\n",
       "    </tr>\n",
       "  </thead>\n",
       "  <tbody>\n",
       "    <tr>\n",
       "      <td>Transit Operator</td>\n",
       "      <td>7036</td>\n",
       "      <td>7036</td>\n",
       "      <td>6975</td>\n",
       "      <td>7036</td>\n",
       "      <td>7036</td>\n",
       "      <td>7036</td>\n",
       "      <td>7036</td>\n",
       "      <td>7036</td>\n",
       "      <td>7036</td>\n",
       "      <td>0</td>\n",
       "      <td>7036</td>\n",
       "      <td>0</td>\n",
       "    </tr>\n",
       "    <tr>\n",
       "      <td>Special Nurse</td>\n",
       "      <td>4389</td>\n",
       "      <td>4389</td>\n",
       "      <td>4382</td>\n",
       "      <td>4389</td>\n",
       "      <td>4389</td>\n",
       "      <td>4389</td>\n",
       "      <td>4389</td>\n",
       "      <td>4389</td>\n",
       "      <td>4389</td>\n",
       "      <td>0</td>\n",
       "      <td>4389</td>\n",
       "      <td>0</td>\n",
       "    </tr>\n",
       "    <tr>\n",
       "      <td>Registered Nurse</td>\n",
       "      <td>3736</td>\n",
       "      <td>3736</td>\n",
       "      <td>3725</td>\n",
       "      <td>3736</td>\n",
       "      <td>3736</td>\n",
       "      <td>3736</td>\n",
       "      <td>3736</td>\n",
       "      <td>3736</td>\n",
       "      <td>3736</td>\n",
       "      <td>0</td>\n",
       "      <td>3736</td>\n",
       "      <td>0</td>\n",
       "    </tr>\n",
       "    <tr>\n",
       "      <td>Public Svc Aide-Public Works</td>\n",
       "      <td>2518</td>\n",
       "      <td>2518</td>\n",
       "      <td>2514</td>\n",
       "      <td>2518</td>\n",
       "      <td>2518</td>\n",
       "      <td>2518</td>\n",
       "      <td>2518</td>\n",
       "      <td>2518</td>\n",
       "      <td>2518</td>\n",
       "      <td>0</td>\n",
       "      <td>2518</td>\n",
       "      <td>0</td>\n",
       "    </tr>\n",
       "    <tr>\n",
       "      <td>Police Officer 3</td>\n",
       "      <td>2421</td>\n",
       "      <td>2421</td>\n",
       "      <td>2411</td>\n",
       "      <td>2421</td>\n",
       "      <td>2421</td>\n",
       "      <td>2421</td>\n",
       "      <td>2421</td>\n",
       "      <td>2421</td>\n",
       "      <td>2421</td>\n",
       "      <td>0</td>\n",
       "      <td>2421</td>\n",
       "      <td>0</td>\n",
       "    </tr>\n",
       "  </tbody>\n",
       "</table>\n",
       "</div>"
      ],
      "text/plain": [
       "                                Id  EmployeeName  BasePay  OvertimePay  \\\n",
       "JobTitle                                                                 \n",
       "Transit Operator              7036          7036     6975         7036   \n",
       "Special Nurse                 4389          4389     4382         4389   \n",
       "Registered Nurse              3736          3736     3725         3736   \n",
       "Public Svc Aide-Public Works  2518          2518     2514         2518   \n",
       "Police Officer 3              2421          2421     2411         2421   \n",
       "\n",
       "                              OtherPay  Benefits  TotalPay  TotalPayBenefits  \\\n",
       "JobTitle                                                                       \n",
       "Transit Operator                  7036      7036      7036              7036   \n",
       "Special Nurse                     4389      4389      4389              4389   \n",
       "Registered Nurse                  3736      3736      3736              3736   \n",
       "Public Svc Aide-Public Works      2518      2518      2518              2518   \n",
       "Police Officer 3                  2421      2421      2421              2421   \n",
       "\n",
       "                              Year  Notes  Agency  Status  \n",
       "JobTitle                                                   \n",
       "Transit Operator              7036      0    7036       0  \n",
       "Special Nurse                 4389      0    4389       0  \n",
       "Registered Nurse              3736      0    3736       0  \n",
       "Public Svc Aide-Public Works  2518      0    2518       0  \n",
       "Police Officer 3              2421      0    2421       0  "
      ]
     },
     "execution_count": 28,
     "metadata": {},
     "output_type": "execute_result"
    }
   ],
   "source": [
    "sal.groupby(\"JobTitle\").count().sort_values(\"Id\", ascending = False)[0:5]"
   ]
  },
  {
   "cell_type": "markdown",
   "metadata": {},
   "source": [
    "** How many Job Titles were represented by only one person in 2013? (e.g. Job Titles with only one occurence in 2013?) **"
   ]
  },
  {
   "cell_type": "code",
   "execution_count": 54,
   "metadata": {},
   "outputs": [
    {
     "data": {
      "text/plain": [
       "array(['Acupuncturist', 'Adm, SFGH Medical Center',\n",
       "       'Administrative Analyst I', 'Administrative Analyst II',\n",
       "       'Administrator, DPH', 'Airport Communications Officer',\n",
       "       'Airport Mechanical Maint Sprv', 'Animal Care Asst Supv',\n",
       "       'Animal Care Supervisor', 'Animal Control Supervisor',\n",
       "       'Arborist Technician Supv II', 'Area Sprv Parks, Squares & Fac',\n",
       "       'Asphalt Plant Supervisor 1', 'Assessor',\n",
       "       'Assistant Director, Probate', 'Assistant Industrial Hygienist',\n",
       "       'Assistant Inspector', 'Assistant Inspector 2',\n",
       "       'Assistant Law Librarian', 'Assistant Power House Operator',\n",
       "       'Assistant Sheriff', 'Assoc Musm Cnsrvt, AAM',\n",
       "       'Asst Chf, Bur Clm Invest&Admin', 'Asst Dir of Clinical Svcs 1',\n",
       "       'Asst Dir, Log Cabin Rnch', 'Asst Director, Juvenile Hall',\n",
       "       'Asst Superintendent Rec', 'Attorney, Tax Collector',\n",
       "       'Auto Body & Fender Wrk Sprv 1', 'Baker', 'Bd/Comm Secretary 3',\n",
       "       'Board Scty, MTA', 'Braillist', 'Captain, (Fire Department)',\n",
       "       'Cement Finisher Supervisor 2', 'Cfdntal Sctry to City Atty',\n",
       "       'Chf District Atty Investigator', 'Chf Victim/Witness Invstgtor',\n",
       "       'Chief Adult Probation Officer', 'Chief Dep Adlt Prob Of (SFERS)',\n",
       "       'Chief Deputy Adlt Probation Of', 'Chief Electrical Inspector',\n",
       "       'Chief Fire Alarm Dispatcher', 'Chief Housing Inspector',\n",
       "       'Chief Nursery Specialist', 'Chief Plumbing Inspector',\n",
       "       'Chief Telephone Operator', 'Chief of Police',\n",
       "       'Chief, Fire Department', 'City Attorney',\n",
       "       'City Shops Asst Superintendent', 'Civil Case Settlmnt Specialist',\n",
       "       'Claims Process Clerk', 'Communications Director',\n",
       "       'Conservatorship/Case Mgt Sprv', 'Controller',\n",
       "       'Court Asst-Sr, Superior Court', 'Court Asst., Superior Court',\n",
       "       'Court Clerk', 'Court Executive Officer',\n",
       "       'Court Interpreter Supervisor', 'Court Reporter Coordinator',\n",
       "       'Crane Mechanic Supervisor', 'Crime Lab Mgr',\n",
       "       'Dep Dir for Investments, Ret', 'Depty Sealer of Weights & Meas',\n",
       "       'Dir Emp Relations Div', 'Dir, Log Cabin Ranch (SFERS)',\n",
       "       'Director, Fiscal Services', 'Director, Human Resources',\n",
       "       'Director, Info Tech Group', 'Director, Juvenile Hall',\n",
       "       'Director, Probate', 'Director, Probation Services',\n",
       "       'Disability Access Coordinator', 'District Attorney',\n",
       "       'Drug Court Coordinator', 'Electric Motor Repair Sprv 1',\n",
       "       'Electroencephalograph Tech 1', 'Emergency Medical Svcs Chief',\n",
       "       'Emergency Services Assistant', 'Emergency Services Coord I',\n",
       "       'Employee Assistance Counselor', 'Employment & Training Spec 6',\n",
       "       'Environmental Hlth Tech 2', 'Ex Asst to Ex Dir, Retirement',\n",
       "       'Ex Asst to the Controller', 'Ex Dir, SE Com Fac Comm', 'Farmer',\n",
       "       'Feasibility Analyst, Port', 'Field Svcs Asst Supv',\n",
       "       'Forensic Toxicologist', 'Gen Mgr, Public Trnsp Dept',\n",
       "       'Glazier Supervisor 1', 'Graphics Supervisor', 'Head Photographer',\n",
       "       'Human Resources Director', 'IS Operator-Analyst',\n",
       "       'IS Operator-Journey', 'IS Technician Assistant',\n",
       "       'IS Trainer-Senior', 'Industrial Engineer', 'Junior Clerk Typist',\n",
       "       'Laboratory Technician I', 'Law Librarian', 'Legislation Clerk',\n",
       "       'Librarian 2 - Asian Arts', 'Managing Attorney',\n",
       "       'Market Research Spec, Port', 'Materials/Supplies Supervisor',\n",
       "       'Mayor', 'Mayoral Staff VII', 'Mayoral Staff X',\n",
       "       'Mayoral Staff XII', 'Mech Shop & Equip Supt',\n",
       "       'Media Production Specialist', 'Media Programming Spec',\n",
       "       'Media Training Specialist', 'Media/Security Syst Supv',\n",
       "       'Mental Health Hearing Officer', 'Metalsmith',\n",
       "       'Mgr Museum Security Services', 'Municipal Stadium Groundskpr',\n",
       "       'Operating Room Nurse', 'Ornamental Iron Wrk Sprv 1',\n",
       "       'Orthopedic Technician 1', 'Orthopedic Technician 2',\n",
       "       'Painter Supervisor 2', 'Parking Hearing Examiner',\n",
       "       'Payroll Supervisor', 'Performance Analyst I',\n",
       "       'Plumber Supervisor 2', 'Port Director',\n",
       "       'Power Plant Supervisor 1', 'Pr Investigator, Tax Collector',\n",
       "       'PrDAInvest,SpecUnit (SFERS)', 'Principal Museum Preparator',\n",
       "       'Principal Real Property Ofc', 'Principal Recreation Sprv',\n",
       "       'Public Defender', 'Public Safety Comm Tech',\n",
       "       'Real Estate Devt. Mgr, SFMTA', 'Rent Board Supervisor',\n",
       "       'Research Psychologist', 'Roofer Supervisor 1',\n",
       "       'Sctry, Human Svcs. Commission', 'Sctry, Juv Probation Comm',\n",
       "       'Secretary, Comm on the Environ', 'Secretary, Health Commission',\n",
       "       'Secretary, Library Commission', 'Senior Assessment Clerk',\n",
       "       'Senior Book Repairer', 'Senior Data Entry Operator',\n",
       "       'Senior Food Service Supervisor', 'Senior Morgue Attendant',\n",
       "       'Senior Museum Preparator', 'Senior Offset Machine Operator',\n",
       "       'Senior Pharmacy Helper', 'Senior Plan Checker',\n",
       "       'Senior Psychiatric Orderly', 'Senior Transcriber Typist',\n",
       "       'Senior Transit Traffic Checker', 'Shade and Drapery Worker',\n",
       "       'Sheet Metal Wrk Supervisor 2', 'Shelter Office Asst Supv',\n",
       "       'Shelter Officer Supervisor', 'Sheriff (SFERS)',\n",
       "       'Signal and Systems Engineer', 'Soft Floor Coverer Supvr I',\n",
       "       'Special Assistant 14', 'Special Assistant 15',\n",
       "       'Special Assistant 16', 'Special Assistant 21',\n",
       "       'Specialist in Aging 2', 'Sprv Adult Prob Ofc (SFERS)',\n",
       "       'Sr Employee Asst Counselor', 'Sr General Utility Mechanic',\n",
       "       'Sr Light Rail Veh Equip Eng', 'Sr Medical Transcriber Typist',\n",
       "       'Sr Opers Mgr', 'Statistician', 'Sup Ct Admin Secretary',\n",
       "       'Sup Welfare Fraud Investigator', 'Supervising Parts Storekeeper',\n",
       "       'Supply Room Attendant', 'Telecommunications Tech Supv',\n",
       "       'Track Maint Supt, Muni Railway', 'Traf Signal Electrician Sup II',\n",
       "       'Traffic Sign Manager', 'Traffic Signal Operator',\n",
       "       'Training Coordinator', 'Training Technician',\n",
       "       'Transit Paint Shop Sprv1', 'Treasurer',\n",
       "       'Trnst Power Line Wrk Sprv 2', 'Undersheriff',\n",
       "       'Vet Laboratory Technologist', 'Victim & Witness Technician',\n",
       "       'Water Meter Shop Supervisor 1', 'Wharfinger 1',\n",
       "       'Window Cleaner Supervisor', 'Wire Rope Cable Maint Sprv'],\n",
       "      dtype=object)"
      ]
     },
     "execution_count": 54,
     "metadata": {},
     "output_type": "execute_result"
    }
   ],
   "source": [
    "sal.loc[sal['Year'] == 2013].groupby('JobTitle').count()[sal.loc[sal['Year'] == 2013].groupby('JobTitle').count()['Id'] == 1].index.values"
   ]
  },
  {
   "cell_type": "markdown",
   "metadata": {},
   "source": [
    "** How many people have the word Chief in their job title? (This is pretty tricky) **"
   ]
  },
  {
   "cell_type": "code",
   "execution_count": 59,
   "metadata": {},
   "outputs": [
    {
     "data": {
      "text/plain": [
       "423"
      ]
     },
     "execution_count": 59,
     "metadata": {},
     "output_type": "execute_result"
    }
   ],
   "source": [
    "len(sal.loc[sal['JobTitle'].apply(lambda x: \"Chief\" in x)])"
   ]
  },
  {
   "cell_type": "code",
   "execution_count": null,
   "metadata": {},
   "outputs": [],
   "source": []
  },
  {
   "cell_type": "markdown",
   "metadata": {},
   "source": [
    "** Bonus: Is there a correlation between length of the Job Title string and Salary? **"
   ]
  },
  {
   "cell_type": "code",
   "execution_count": null,
   "metadata": {},
   "outputs": [],
   "source": []
  },
  {
   "cell_type": "code",
   "execution_count": null,
   "metadata": {},
   "outputs": [],
   "source": []
  },
  {
   "cell_type": "markdown",
   "metadata": {},
   "source": [
    "# Great Job!"
   ]
  }
 ],
 "metadata": {
  "kernelspec": {
   "display_name": "Python 3",
   "language": "python",
   "name": "python3"
  },
  "language_info": {
   "codemirror_mode": {
    "name": "ipython",
    "version": 3
   },
   "file_extension": ".py",
   "mimetype": "text/x-python",
   "name": "python",
   "nbconvert_exporter": "python",
   "pygments_lexer": "ipython3",
   "version": "3.7.4"
  }
 },
 "nbformat": 4,
 "nbformat_minor": 1
}
